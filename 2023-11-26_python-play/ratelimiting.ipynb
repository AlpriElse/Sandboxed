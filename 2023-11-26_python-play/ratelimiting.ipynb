{
 "cells": [
  {
   "cell_type": "code",
   "execution_count": 4,
   "metadata": {},
   "outputs": [
    {
     "name": "stdout",
     "output_type": "stream",
     "text": [
      "0\n",
      "called\n",
      "1\n",
      "called\n",
      "2\n",
      "called\n",
      "3\n",
      "called\n",
      "4\n",
      "called\n",
      "5\n",
      "called\n",
      "6\n",
      "called\n",
      "7\n",
      "called\n",
      "8\n",
      "called\n",
      "9\n",
      "called\n",
      "10\n",
      "called\n",
      "11\n",
      "called\n",
      "12\n",
      "called\n",
      "13\n",
      "called\n",
      "14\n",
      "called\n",
      "15\n",
      "called\n",
      "16\n",
      "called\n",
      "17\n",
      "called\n",
      "18\n",
      "called\n",
      "19\n",
      "called\n"
     ]
    }
   ],
   "source": [
    "\n",
    "\n",
    "from ratelimiter import RateLimiter\n",
    "\n",
    "@RateLimiter(max_calls=10, period=1)\n",
    "def something():\n",
    "  print('called')\n",
    "\n",
    "for i in range(0, 20):\n",
    "  print(i)\n",
    "  something()"
   ]
  },
  {
   "cell_type": "code",
   "execution_count": 14,
   "metadata": {},
   "outputs": [
    {
     "name": "stdout",
     "output_type": "stream",
     "text": [
      "0 called\n",
      "1 called\n",
      "2 called\n",
      "3 called\n",
      "4 called\n",
      "5 called\n",
      "6 called\n",
      "25 called\n",
      "7 called\n",
      "8 called\n",
      "9 called\n",
      "10 called\n",
      "11 called\n",
      "12 called\n",
      "13 called\n",
      "14 called\n",
      "done\n"
     ]
    },
    {
     "name": "stdout",
     "output_type": "stream",
     "text": [
      "26 called\n",
      "28 called\n",
      "29 called\n",
      "30 called\n",
      "32 called\n"
     ]
    }
   ],
   "source": [
    "from concurrent.futures import ThreadPoolExecutor, wait\n",
    "\n",
    "@RateLimiter(max_calls=5, period=1)\n",
    "def some_api(i):\n",
    "  print(f'{i} called')\n",
    "\n",
    "with ThreadPoolExecutor() as executor:\n",
    "  futures = []\n",
    "  for i in range(0,15):\n",
    "    some_future = executor.submit(some_api, i)\n",
    "    futures.append(some_future)\n",
    "\n",
    "  wait(futures)\n",
    "\n",
    "  print('done')\n",
    "\n",
    "  \n"
   ]
  },
  {
   "cell_type": "code",
   "execution_count": null,
   "metadata": {},
   "outputs": [],
   "source": []
  }
 ],
 "metadata": {
  "kernelspec": {
   "display_name": ".venv",
   "language": "python",
   "name": "python3"
  },
  "language_info": {
   "codemirror_mode": {
    "name": "ipython",
    "version": 3
   },
   "file_extension": ".py",
   "mimetype": "text/x-python",
   "name": "python",
   "nbconvert_exporter": "python",
   "pygments_lexer": "ipython3",
   "version": "3.9.0"
  },
  "orig_nbformat": 4
 },
 "nbformat": 4,
 "nbformat_minor": 2
}
