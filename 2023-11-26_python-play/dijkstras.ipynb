{
 "cells": [
  {
   "cell_type": "markdown",
   "metadata": {},
   "source": [
    "ty ChatGPT\n",
    "Initialize: Set the distance to the start node to 0 and to all other nodes to infinity. Set the predecessor of all nodes to None.\n",
    "\n",
    "Set the unvisited nodes: All nodes are initially unvisited.\n",
    "\n",
    "Visit the unvisited node with the smallest known distance from the start node.\n",
    "\n",
    "For the current node, consider all of its unvisited neighbors and calculate their tentative distances. Compare the newly calculated tentative distance to the current assigned value and assign the smaller one.\n",
    "\n",
    "After considering all of the unvisited neighbors of the current node, mark the current node as visited. A visited node will not be checked again.\n",
    "\n",
    "If the destination node has been marked visited or if the smallest tentative distance among the nodes in the unvisited set is infinity (which occurs when there is no connection between the start node and remaining unvisited nodes), then stop. The algorithm has finished.\n",
    "\n",
    "Otherwise, select the unvisited node that is marked with the smallest tentative distance, set it as the new \"current node,\" and go back to step 4."
   ]
  },
  {
   "cell_type": "code",
   "execution_count": 2,
   "metadata": {},
   "outputs": [],
   "source": [
    "import sys\n",
    "INFINITY = sys.maxsize\n",
    "\n",
    "def dijkstra(graph, start):\n",
    "  shortest_distance = {}\n",
    "  unseen_nodes = graph\n",
    "  for node in unseen_nodes:\n",
    "    shortest_distance[node] = INFINITY\n",
    "  \n",
    "  shortest_distance[start] = 0\n",
    "\n",
    "  predecessor = {}\n",
    "  \n",
    "  while unseen_nodes:\n",
    "    min_node = None\n",
    "    for node in unseen_nodes:\n",
    "      if min_node is None:\n",
    "        min_node = node\n",
    "      elif shortest_distance[node] < shortest_distance[min_node]:\n",
    "        min_node = node\n",
    "\n",
    "    for child_node, weight in graph[min_node].items():\n",
    "      if weight + shortest_distance[min_node] < shortest_distance[child_node]:\n",
    "        shortest_distance[child_node] = weight + shortest_distance[min_node]\n",
    "        predecessor[child_node] = min_node\n",
    "      \n",
    "    unseen_nodes.pop(min_node)\n",
    "  \n",
    "  return shortest_distance, predecessor"
   ]
  },
  {
   "cell_type": "code",
   "execution_count": 3,
   "metadata": {},
   "outputs": [
    {
     "name": "stdout",
     "output_type": "stream",
     "text": [
      "Shortest distances: {'A': 0, 'B': 1, 'C': 3, 'D': 4}\n",
      "Predecessors: {'B': 'A', 'C': 'B', 'D': 'C'}\n"
     ]
    }
   ],
   "source": [
    "graph = {\n",
    "    'A': {'B': 1, 'C': 4},\n",
    "    'B': {'A': 1, 'C': 2, 'D': 5},\n",
    "    'C': {'A': 4, 'B': 2, 'D': 1},\n",
    "    'D': {'B': 5, 'C': 1}\n",
    "}\n",
    "start_node = 'A'\n",
    "shortest_distance, predecessor = dijkstra(graph, start_node)\n",
    "print(\"Shortest distances:\", shortest_distance)\n",
    "print(\"Predecessors:\", predecessor)"
   ]
  },
  {
   "cell_type": "code",
   "execution_count": null,
   "metadata": {},
   "outputs": [],
   "source": []
  }
 ],
 "metadata": {
  "kernelspec": {
   "display_name": ".venv",
   "language": "python",
   "name": "python3"
  },
  "language_info": {
   "codemirror_mode": {
    "name": "ipython",
    "version": 3
   },
   "file_extension": ".py",
   "mimetype": "text/x-python",
   "name": "python",
   "nbconvert_exporter": "python",
   "pygments_lexer": "ipython3",
   "version": "3.9.0"
  },
  "orig_nbformat": 4
 },
 "nbformat": 4,
 "nbformat_minor": 2
}
