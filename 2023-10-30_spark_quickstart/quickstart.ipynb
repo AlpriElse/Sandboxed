{
 "cells": [
  {
   "cell_type": "code",
   "execution_count": 2,
   "metadata": {},
   "outputs": [
    {
     "name": "stderr",
     "output_type": "stream",
     "text": [
      "Setting default log level to \"WARN\".\n",
      "To adjust logging level use sc.setLogLevel(newLevel). For SparkR, use setLogLevel(newLevel).\n",
      "23/10/31 01:00:11 WARN NativeCodeLoader: Unable to load native-hadoop library for your platform... using builtin-java classes where applicable\n"
     ]
    }
   ],
   "source": [
    "from pyspark.sql import SparkSession\n",
    "\n",
    "spark = SparkSession.builder.appName(\"My spark app\").getOrCreate()"
   ]
  },
  {
   "cell_type": "markdown",
   "metadata": {},
   "source": [
    "localhost:4040 to see Spark jobs"
   ]
  },
  {
   "cell_type": "code",
   "execution_count": null,
   "metadata": {},
   "outputs": [],
   "source": []
  },
  {
   "cell_type": "code",
   "execution_count": 3,
   "metadata": {},
   "outputs": [],
   "source": [
    "textFile = spark.read.text(\"README.md\")"
   ]
  },
  {
   "cell_type": "code",
   "execution_count": 4,
   "metadata": {},
   "outputs": [
    {
     "data": {
      "text/plain": [
       "124"
      ]
     },
     "execution_count": 4,
     "metadata": {},
     "output_type": "execute_result"
    }
   ],
   "source": [
    "textFile.count()"
   ]
  },
  {
   "cell_type": "code",
   "execution_count": 5,
   "metadata": {},
   "outputs": [
    {
     "data": {
      "text/plain": [
       "Row(value='# Apache Spark')"
      ]
     },
     "execution_count": 5,
     "metadata": {},
     "output_type": "execute_result"
    }
   ],
   "source": [
    "textFile.first()"
   ]
  },
  {
   "cell_type": "code",
   "execution_count": 6,
   "metadata": {},
   "outputs": [],
   "source": [
    "linesWithSpark = textFile.filter(textFile.value.contains(\"Spark\"))"
   ]
  },
  {
   "cell_type": "code",
   "execution_count": 9,
   "metadata": {},
   "outputs": [
    {
     "data": {
      "text/plain": [
       "20"
      ]
     },
     "execution_count": 9,
     "metadata": {},
     "output_type": "execute_result"
    }
   ],
   "source": [
    "linesWithSpark.count()"
   ]
  },
  {
   "cell_type": "code",
   "execution_count": 10,
   "metadata": {},
   "outputs": [
    {
     "data": {
      "text/plain": [
       "DataFrame[value: string]"
      ]
     },
     "execution_count": 10,
     "metadata": {},
     "output_type": "execute_result"
    }
   ],
   "source": [
    "linesWithSpark"
   ]
  },
  {
   "cell_type": "code",
   "execution_count": 12,
   "metadata": {},
   "outputs": [
    {
     "name": "stdout",
     "output_type": "stream",
     "text": [
      "Column<'value'>\n"
     ]
    }
   ],
   "source": [
    "for line in linesWithSpark:\n",
    "    print(line)"
   ]
  },
  {
   "cell_type": "code",
   "execution_count": 13,
   "metadata": {},
   "outputs": [
    {
     "data": {
      "text/plain": [
       "[Row(max(numWords)=16)]"
      ]
     },
     "execution_count": 13,
     "metadata": {},
     "output_type": "execute_result"
    }
   ],
   "source": [
    "from pyspark.sql import functions as sf\n",
    "textFile.select(\n",
    "  sf.size(sf.split(textFile.value, \"\\s+\")).name(\"numWords\")).agg(sf.max(sf.col(\"numWords\"))\n",
    ").collect()"
   ]
  },
  {
   "cell_type": "code",
   "execution_count": 19,
   "metadata": {},
   "outputs": [
    {
     "name": "stdout",
     "output_type": "stream",
     "text": [
      "+--------+\n",
      "|numWords|\n",
      "+--------+\n",
      "|      16|\n",
      "|      15|\n",
      "|      14|\n",
      "|      13|\n",
      "|      13|\n",
      "|      13|\n",
      "|      13|\n",
      "|      13|\n",
      "|      13|\n",
      "|      12|\n",
      "|      12|\n",
      "|      12|\n",
      "|      12|\n",
      "|      12|\n",
      "|      12|\n",
      "|      11|\n",
      "|      11|\n",
      "|      11|\n",
      "|      11|\n",
      "|      11|\n",
      "+--------+\n",
      "only showing top 20 rows\n",
      "\n"
     ]
    }
   ],
   "source": [
    "textFile.select(\n",
    "  sf.size(sf.split(textFile.value, \"\\s+\")).name(\"numWords\")\n",
    ").orderBy(sf.desc('numWords')).show()"
   ]
  },
  {
   "cell_type": "code",
   "execution_count": 22,
   "metadata": {},
   "outputs": [],
   "source": [
    "wordCounts = textFile.select(\n",
    "  sf.explode(sf.split(textFile.value, '\\s+')).alias(\"word\")).groupBy(\"word\").count()\n"
   ]
  },
  {
   "cell_type": "code",
   "execution_count": 23,
   "metadata": {},
   "outputs": [
    {
     "name": "stdout",
     "output_type": "stream",
     "text": [
      "+--------------+-----+\n",
      "|          word|count|\n",
      "+--------------+-----+\n",
      "|    [![PySpark|    1|\n",
      "|        online|    1|\n",
      "|        graphs|    1|\n",
      "|           API|    1|\n",
      "|    [\"Building|    1|\n",
      "| documentation|    3|\n",
      "|      command,|    2|\n",
      "|   abbreviated|    1|\n",
      "|       [![PyPI|    1|\n",
      "|       ```bash|    6|\n",
      "|      overview|    1|\n",
      "|          rich|    1|\n",
      "|           set|    2|\n",
      "|   -DskipTests|    1|\n",
      "|1,000,000,000:|    2|\n",
      "|          name|    1|\n",
      "|  [\"Specifying|    1|\n",
      "|        stream|    1|\n",
      "|          run:|    1|\n",
      "|           not|    1|\n",
      "+--------------+-----+\n",
      "only showing top 20 rows\n",
      "\n"
     ]
    }
   ],
   "source": [
    "wordCounts.show()"
   ]
  },
  {
   "cell_type": "code",
   "execution_count": 25,
   "metadata": {},
   "outputs": [
    {
     "name": "stdout",
     "output_type": "stream",
     "text": [
      "+-------+-----+\n",
      "|   word|count|\n",
      "+-------+-----+\n",
      "|       |   40|\n",
      "|    the|   23|\n",
      "|     to|   16|\n",
      "|  Spark|   15|\n",
      "|    for|   13|\n",
      "|    and|    9|\n",
      "|     ##|    9|\n",
      "|     on|    8|\n",
      "|    ```|    8|\n",
      "|      a|    8|\n",
      "|     is|    7|\n",
      "|    run|    7|\n",
      "|```bash|    6|\n",
      "|    can|    6|\n",
      "|     of|    5|\n",
      "|     in|    5|\n",
      "|   also|    5|\n",
      "| Please|    4|\n",
      "|    you|    4|\n",
      "|     if|    4|\n",
      "+-------+-----+\n",
      "only showing top 20 rows\n",
      "\n"
     ]
    }
   ],
   "source": [
    "wordCounts.orderBy(sf.desc('count')).show()"
   ]
  },
  {
   "cell_type": "code",
   "execution_count": 26,
   "metadata": {},
   "outputs": [
    {
     "data": {
      "text/plain": [
       "[Row(word='[![PySpark', count=1),\n",
       " Row(word='online', count=1),\n",
       " Row(word='graphs', count=1),\n",
       " Row(word='API', count=1),\n",
       " Row(word='[\"Building', count=1),\n",
       " Row(word='documentation', count=3),\n",
       " Row(word='command,', count=2),\n",
       " Row(word='abbreviated', count=1),\n",
       " Row(word='[![PyPI', count=1),\n",
       " Row(word='```bash', count=6),\n",
       " Row(word='overview', count=1),\n",
       " Row(word='rich', count=1),\n",
       " Row(word='set', count=2),\n",
       " Row(word='-DskipTests', count=1),\n",
       " Row(word='1,000,000,000:', count=2),\n",
       " Row(word='name', count=1),\n",
       " Row(word='[\"Specifying', count=1),\n",
       " Row(word='stream', count=1),\n",
       " Row(word='run:', count=1),\n",
       " Row(word='not', count=1),\n",
       " Row(word='programs', count=2),\n",
       " Row(word='tests', count=2),\n",
       " Row(word='./dev/run-tests', count=1),\n",
       " Row(word='will', count=1),\n",
       " Row(word='[run', count=1),\n",
       " Row(word='particular', count=2),\n",
       " Row(word='Alternatively,', count=1),\n",
       " Row(word='must', count=1),\n",
       " Row(word='using', count=3),\n",
       " Row(word='./build/mvn', count=1),\n",
       " Row(word='you', count=4),\n",
       " Row(word='MLlib', count=1),\n",
       " Row(word='DataFrames,', count=1),\n",
       " Row(word='variable', count=1),\n",
       " Row(word='Note', count=1),\n",
       " Row(word='core', count=1),\n",
       " Row(word='protocols', count=1),\n",
       " Row(word='Guide](https://spark.apache.org/docs/latest/configuration.html)', count=1),\n",
       " Row(word='guidance', count=2),\n",
       " Row(word='shell:', count=2),\n",
       " Row(word='can', count=6),\n",
       " Row(word='site,', count=1),\n",
       " Row(word='*', count=4),\n",
       " Row(word='systems.', count=1),\n",
       " Row(word='[building', count=1),\n",
       " Row(word='configure', count=1),\n",
       " Row(word='for', count=13),\n",
       " Row(word='README', count=1),\n",
       " Row(word='Interactive', count=2),\n",
       " Row(word='```python', count=1),\n",
       " Row(word='how', count=3),\n",
       " Row(word='[Configuration', count=1),\n",
       " Row(word='Hive', count=2),\n",
       " Row(word='provides', count=1),\n",
       " Row(word='Hadoop-supported', count=1),\n",
       " Row(word='pre-built', count=1),\n",
       " Row(word='[\"Useful', count=1),\n",
       " Row(word='directory.', count=1),\n",
       " Row(word='Example', count=1),\n",
       " Row(word='Actions', count=1),\n",
       " Row(word='example', count=3),\n",
       " Row(word='Kubernetes', count=1),\n",
       " Row(word='one', count=2),\n",
       " Row(word='MASTER', count=1),\n",
       " Row(word='guide](https://spark.apache.org/contributing.html)', count=1),\n",
       " Row(word='in', count=5),\n",
       " Row(word='library', count=1),\n",
       " Row(word='Spark.', count=1),\n",
       " Row(word='contains', count=1),\n",
       " Row(word='Configuration', count=1),\n",
       " Row(word='programming', count=1),\n",
       " Row(word='with', count=3),\n",
       " Row(word='contributing', count=1),\n",
       " Row(word='downloaded', count=1),\n",
       " Row(word='1000).count()', count=2),\n",
       " Row(word='comes', count=1),\n",
       " Row(word='machine', count=1),\n",
       " Row(word='building', count=2),\n",
       " Row(word='params', count=1),\n",
       " Row(word='given.', count=1),\n",
       " Row(word='be', count=2),\n",
       " Row(word='same', count=1),\n",
       " Row(word='integration', count=1),\n",
       " Row(word='Programs', count=1),\n",
       " Row(word='locally', count=2),\n",
       " Row(word='using:', count=1),\n",
       " Row(word='[Apache', count=1),\n",
       " Row(word='your', count=1),\n",
       " Row(word='optimized', count=1),\n",
       " Row(word='pandas', count=2),\n",
       " Row(word='Developer', count=1),\n",
       " Row(word='R,', count=1),\n",
       " Row(word='[![AppVeyor', count=1),\n",
       " Row(word='should', count=2),\n",
       " Row(word='graph', count=1),\n",
       " Row(word='package', count=1),\n",
       " Row(word='[project', count=1),\n",
       " Row(word='project', count=1),\n",
       " Row(word='`examples`', count=2),\n",
       " Row(word='resource-managers/kubernetes/integration-tests/README.md', count=1),\n",
       " Row(word='versions', count=1),\n",
       " Row(word='Spark\"](https://spark.apache.org/docs/latest/building-spark.html).', count=1),\n",
       " Row(word='Spark](#building-spark).', count=1),\n",
       " Row(word='general', count=2),\n",
       " Row(word='other', count=1),\n",
       " Row(word='1000', count=2),\n",
       " Row(word='learning,', count=1),\n",
       " Row(word='when', count=1),\n",
       " Row(word='submit', count=1),\n",
       " Row(word='Apache', count=1),\n",
       " Row(word='detailed', count=2),\n",
       " Row(word='About', count=1),\n",
       " Row(word='is', count=7),\n",
       " Row(word='on', count=8),\n",
       " Row(word='```scala', count=1),\n",
       " Row(word='scala>', count=1),\n",
       " Row(word='print', count=1),\n",
       " Row(word='Tools\"](https://spark.apache.org/developer-tools.html).', count=1),\n",
       " Row(word='use', count=3),\n",
       " Row(word='different', count=1),\n",
       " Row(word='following', count=2),\n",
       " Row(word='YARN\"](https://spark.apache.org/docs/latest/building-spark.html#specifying-the-hadoop-version-and-enabling-yarn)', count=1),\n",
       " Row(word='<https://spark.apache.org/>', count=1),\n",
       " Row(word='SparkPi', count=2),\n",
       " Row(word='refer', count=2),\n",
       " Row(word='./bin/run-example', count=2),\n",
       " Row(word='data', count=2),\n",
       " Row(word='Tests', count=1),\n",
       " Row(word='Versions', count=1),\n",
       " Row(word='processing.', count=2),\n",
       " Row(word='its', count=1),\n",
       " Row(word='tests](https://spark.apache.org/developer-tools.html#individual-tests).', count=1),\n",
       " Row(word='basic', count=1),\n",
       " Row(word='latest', count=1),\n",
       " Row(word='only', count=1),\n",
       " Row(word='<class>', count=1),\n",
       " Row(word='have', count=1),\n",
       " Row(word='runs.', count=1),\n",
       " Row(word='You', count=3),\n",
       " Row(word='tips,', count=1),\n",
       " Row(word='project.', count=1),\n",
       " Row(word='developing', count=1),\n",
       " Row(word='YARN,', count=1),\n",
       " Row(word='It', count=2),\n",
       " Row(word='\"local\"', count=1),\n",
       " Row(word='processing,', count=1),\n",
       " Row(word='built', count=1),\n",
       " Row(word='Pi', count=1),\n",
       " Row(word='thread,', count=1),\n",
       " Row(word='A', count=1),\n",
       " Row(word='APIs', count=1),\n",
       " Row(word='Scala,', count=1),\n",
       " Row(word='file', count=1),\n",
       " Row(word='computation', count=1),\n",
       " Row(word='Once', count=1),\n",
       " Row(word='find', count=1),\n",
       " Row(word='the', count=23),\n",
       " Row(word='To', count=2),\n",
       " Row(word='uses', count=1),\n",
       " Row(word='Version', count=1),\n",
       " Row(word='N', count=1),\n",
       " Row(word='programs,', count=1),\n",
       " Row(word='\"yarn\"', count=1),\n",
       " Row(word='see', count=3),\n",
       " Row(word='./bin/pyspark', count=1),\n",
       " Row(word='Structured', count=1),\n",
       " Row(word='return', count=2),\n",
       " Row(word='Java,', count=1),\n",
       " Row(word='from', count=1),\n",
       " Row(word='Because', count=1),\n",
       " Row(word='Streaming', count=1),\n",
       " Row(word='More', count=1),\n",
       " Row(word='cluster', count=1),\n",
       " Row(word='analytics', count=1),\n",
       " Row(word='analysis.', count=1),\n",
       " Row(word='cluster.', count=1),\n",
       " Row(word='Running', count=1),\n",
       " Row(word='Please', count=4),\n",
       " Row(word='talk', count=1),\n",
       " Row(word='distributions.', count=1),\n",
       " Row(word='guide,', count=1),\n",
       " Row(word='There', count=1),\n",
       " Row(word='\"local[N]\"', count=1),\n",
       " Row(word='Try', count=1),\n",
       " Row(word='workloads,', count=1),\n",
       " Row(word='and', count=9),\n",
       " Row(word='do', count=2),\n",
       " Row(word='Scala', count=2),\n",
       " Row(word='class', count=2),\n",
       " Row(word='build', count=3),\n",
       " Row(word='setup', count=1),\n",
       " Row(word='need', count=1),\n",
       " Row(word='spark://', count=1),\n",
       " Row(word='Hadoop,', count=2),\n",
       " Row(word='Thriftserver', count=1),\n",
       " Row(word='are', count=1),\n",
       " Row(word='requires', count=1),\n",
       " Row(word='package.', count=1),\n",
       " Row(word='Enabling', count=1),\n",
       " Row(word='clean', count=1),\n",
       " Row(word='large-scale', count=1),\n",
       " Row(word='high-level', count=1),\n",
       " Row(word='SQL', count=2),\n",
       " Row(word='page](https://spark.apache.org/documentation.html).', count=1),\n",
       " Row(word='against', count=1),\n",
       " Row(word='of', count=5),\n",
       " Row(word='through', count=1),\n",
       " Row(word='review', count=1),\n",
       " Row(word='package.)', count=1),\n",
       " Row(word='Python,', count=2),\n",
       " Row(word='easiest', count=1),\n",
       " Row(word='no', count=1),\n",
       " Row(word='Testing', count=1),\n",
       " Row(word='several', count=1),\n",
       " Row(word='help', count=1),\n",
       " Row(word='The', count=1),\n",
       " Row(word='sample', count=1),\n",
       " Row(word='MASTER=spark://host:7077', count=1),\n",
       " Row(word='examples', count=2),\n",
       " Row(word='```', count=8),\n",
       " Row(word='an', count=4),\n",
       " Row(word='#', count=1),\n",
       " Row(word='Online', count=1),\n",
       " Row(word='test,', count=1),\n",
       " Row(word='including', count=4),\n",
       " Row(word='usage', count=1),\n",
       " Row(word='Python', count=2),\n",
       " Row(word='at', count=2),\n",
       " Row(word='development', count=1),\n",
       " Row(word='IDE,', count=1),\n",
       " Row(word='way', count=1),\n",
       " Row(word='Contributing', count=1),\n",
       " Row(word='get', count=1),\n",
       " Row(word='that', count=2),\n",
       " Row(word='##', count=9),\n",
       " Row(word='For', count=3),\n",
       " Row(word='prefer', count=1),\n",
       " Row(word='This', count=2),\n",
       " Row(word='running', count=1),\n",
       " Row(word='Build](https://img.shields.io/appveyor/ci/ApacheSoftwareFoundation/spark/master.svg?style=plastic&logo=appveyor)](https://ci.appveyor.com/project/ApacheSoftwareFoundation/spark)', count=1),\n",
       " Row(word='web', count=1),\n",
       " Row(word='run', count=7),\n",
       " Row(word='locally.', count=1),\n",
       " Row(word='Spark', count=15),\n",
       " Row(word='URL,', count=1),\n",
       " Row(word='a', count=8),\n",
       " Row(word='higher-level', count=1),\n",
       " Row(word='tools', count=1),\n",
       " Row(word='if', count=4),\n",
       " Row(word='available', count=1),\n",
       " Row(word='', count=40),\n",
       " Row(word='Documentation', count=1),\n",
       " Row(word='this', count=1),\n",
       " Row(word='Maven](https://maven.apache.org/).', count=1),\n",
       " Row(word='(You', count=1),\n",
       " Row(word='>>>', count=1),\n",
       " Row(word='information', count=1),\n",
       " Row(word='info', count=1),\n",
       " Row(word='unified', count=1),\n",
       " Row(word='Shell', count=2),\n",
       " Row(word='environment', count=1),\n",
       " Row(word='built,', count=1),\n",
       " Row(word='module,', count=1),\n",
       " Row(word='Coverage](https://codecov.io/gh/apache/spark/branch/master/graph/badge.svg)](https://codecov.io/gh/apache/spark)', count=1),\n",
       " Row(word='them,', count=1),\n",
       " Row(word='`./bin/run-example', count=1),\n",
       " Row(word='instance:', count=1),\n",
       " Row(word='first', count=1),\n",
       " Row(word='[Contribution', count=1),\n",
       " Row(word='documentation,', count=1),\n",
       " Row(word='[params]`.', count=1),\n",
       " Row(word='engine', count=2),\n",
       " Row(word='GraphX', count=1),\n",
       " Row(word='example:', count=1),\n",
       " Row(word='HDFS', count=1),\n",
       " Row(word='or', count=2),\n",
       " Row(word='[![GitHub', count=1),\n",
       " Row(word='to', count=16),\n",
       " Row(word='Hadoop', count=3),\n",
       " Row(word='individual', count=1),\n",
       " Row(word='also', count=5),\n",
       " Row(word='Build](https://github.com/apache/spark/actions/workflows/build_main.yml/badge.svg)](https://github.com/apache/spark/actions/workflows/build_main.yml)', count=1),\n",
       " Row(word='changed', count=1),\n",
       " Row(word='started', count=1),\n",
       " Row(word='./bin/spark-shell', count=1),\n",
       " Row(word='threads.', count=1),\n",
       " Row(word='supports', count=2),\n",
       " Row(word='Downloads](https://static.pepy.tech/personalized-badge/pyspark?period=month&units=international_system&left_color=black&right_color=orange&left_text=PyPI%20downloads)](https://pypi.org/project/pyspark/)', count=1),\n",
       " Row(word='storage', count=1),\n",
       " Row(word='version', count=1),\n",
       " Row(word='instructions.', count=1),\n",
       " Row(word='Building', count=1),\n",
       " Row(word='start', count=1),\n",
       " Row(word='Many', count=1),\n",
       " Row(word='which', count=2),\n",
       " Row(word='spark.range(1000', count=2),\n",
       " Row(word='And', count=1),\n",
       " Row(word='distribution', count=1)]"
      ]
     },
     "execution_count": 26,
     "metadata": {},
     "output_type": "execute_result"
    }
   ],
   "source": [
    "wordCounts.collect()"
   ]
  },
  {
   "cell_type": "code",
   "execution_count": 27,
   "metadata": {},
   "outputs": [
    {
     "data": {
      "text/plain": [
       "20"
      ]
     },
     "execution_count": 27,
     "metadata": {},
     "output_type": "execute_result"
    }
   ],
   "source": [
    "linesWithSpark.count()"
   ]
  },
  {
   "cell_type": "code",
   "execution_count": 28,
   "metadata": {},
   "outputs": [
    {
     "data": {
      "text/plain": [
       "DataFrame[value: string]"
      ]
     },
     "execution_count": 28,
     "metadata": {},
     "output_type": "execute_result"
    }
   ],
   "source": [
    "linesWithSpark.cache()"
   ]
  },
  {
   "cell_type": "code",
   "execution_count": 29,
   "metadata": {},
   "outputs": [
    {
     "data": {
      "text/plain": [
       "20"
      ]
     },
     "execution_count": 29,
     "metadata": {},
     "output_type": "execute_result"
    }
   ],
   "source": [
    "linesWithSpark.count()"
   ]
  },
  {
   "cell_type": "code",
   "execution_count": null,
   "metadata": {},
   "outputs": [],
   "source": []
  }
 ],
 "metadata": {
  "kernelspec": {
   "display_name": ".venv",
   "language": "python",
   "name": "python3"
  },
  "language_info": {
   "codemirror_mode": {
    "name": "ipython",
    "version": 3
   },
   "file_extension": ".py",
   "mimetype": "text/x-python",
   "name": "python",
   "nbconvert_exporter": "python",
   "pygments_lexer": "ipython3",
   "version": "3.11.2"
  },
  "orig_nbformat": 4
 },
 "nbformat": 4,
 "nbformat_minor": 2
}
