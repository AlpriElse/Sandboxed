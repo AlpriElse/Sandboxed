{
 "cells": [
  {
   "cell_type": "code",
   "execution_count": 1,
   "metadata": {},
   "outputs": [],
   "source": [
    "from pydantic import BaseModel\n",
    "from typing import Tuple\n",
    "\n",
    "class Person(BaseModel):\n",
    "  firstname: str\n",
    "  lastname: str\n",
    "  height: Tuple[int, int]\n",
    "\n"
   ]
  },
  {
   "cell_type": "code",
   "execution_count": 3,
   "metadata": {},
   "outputs": [],
   "source": [
    "me = Person(firstname=\"Alpri\", lastname=\"Else\", height=(5, 11))"
   ]
  },
  {
   "cell_type": "code",
   "execution_count": 4,
   "metadata": {},
   "outputs": [
    {
     "data": {
      "text/plain": [
       "Person(firstname='Alpri', lastname='Else', height=(5, 11))"
      ]
     },
     "execution_count": 4,
     "metadata": {},
     "output_type": "execute_result"
    }
   ],
   "source": [
    "me"
   ]
  },
  {
   "cell_type": "code",
   "execution_count": 6,
   "metadata": {},
   "outputs": [
    {
     "name": "stderr",
     "output_type": "stream",
     "text": [
      "/var/folders/kt/7gdyyk6d75lbw1xwdqkrbrjw0000gn/T/ipykernel_47559/664548708.py:1: PydanticDeprecatedSince20: The `json` method is deprecated; use `model_dump_json` instead. Deprecated in Pydantic V2.0 to be removed in V3.0. See Pydantic V2 Migration Guide at https://errors.pydantic.dev/2.5/migration/\n",
      "  me.json()\n"
     ]
    },
    {
     "data": {
      "text/plain": [
       "'{\"firstname\":\"Alpri\",\"lastname\":\"Else\",\"height\":[5,11]}'"
      ]
     },
     "execution_count": 6,
     "metadata": {},
     "output_type": "execute_result"
    }
   ],
   "source": [
    "me.json()"
   ]
  },
  {
   "cell_type": "code",
   "execution_count": 7,
   "metadata": {},
   "outputs": [
    {
     "data": {
      "text/plain": [
       "{'firstname': 'Alpri', 'lastname': 'Else', 'height': (5, 11)}"
      ]
     },
     "execution_count": 7,
     "metadata": {},
     "output_type": "execute_result"
    }
   ],
   "source": [
    "me.model_dump()"
   ]
  },
  {
   "cell_type": "code",
   "execution_count": 8,
   "metadata": {},
   "outputs": [
    {
     "data": {
      "text/plain": [
       "'Alpri'"
      ]
     },
     "execution_count": 8,
     "metadata": {},
     "output_type": "execute_result"
    }
   ],
   "source": [
    "me.model_dump()['firstname']"
   ]
  },
  {
   "cell_type": "code",
   "execution_count": 9,
   "metadata": {},
   "outputs": [
    {
     "data": {
      "text/plain": [
       "{'properties': {'firstname': {'title': 'Firstname', 'type': 'string'},\n",
       "  'lastname': {'title': 'Lastname', 'type': 'string'},\n",
       "  'height': {'maxItems': 2,\n",
       "   'minItems': 2,\n",
       "   'prefixItems': [{'type': 'integer'}, {'type': 'integer'}],\n",
       "   'title': 'Height',\n",
       "   'type': 'array'}},\n",
       " 'required': ['firstname', 'lastname', 'height'],\n",
       " 'title': 'Person',\n",
       " 'type': 'object'}"
      ]
     },
     "execution_count": 9,
     "metadata": {},
     "output_type": "execute_result"
    }
   ],
   "source": [
    "Person.model_json_schema()"
   ]
  },
  {
   "cell_type": "code",
   "execution_count": 21,
   "metadata": {},
   "outputs": [],
   "source": [
    "from typing_extensions import TypedDict\n",
    "\n",
    "class Pastery(TypedDict):\n",
    "  name: str\n",
    "  bake_duration_mins: int\n",
    "\n",
    "croissant: Pastery = { 'name': 'Croissant', 'bake_duration_mins': 10}"
   ]
  },
  {
   "cell_type": "code",
   "execution_count": 22,
   "metadata": {},
   "outputs": [],
   "source": [
    "croissant2: Pastery = { 'name': 'Croissant', 'bake_duration_mins': '10'}"
   ]
  },
  {
   "cell_type": "code",
   "execution_count": 23,
   "metadata": {},
   "outputs": [
    {
     "data": {
      "text/plain": [
       "'Croissant'"
      ]
     },
     "execution_count": 23,
     "metadata": {},
     "output_type": "execute_result"
    }
   ],
   "source": [
    "croissant['name']"
   ]
  },
  {
   "cell_type": "code",
   "execution_count": 24,
   "metadata": {},
   "outputs": [
    {
     "data": {
      "text/plain": [
       "'10'"
      ]
     },
     "execution_count": 24,
     "metadata": {},
     "output_type": "execute_result"
    }
   ],
   "source": [
    "croissant2['bake_duration_mins']"
   ]
  },
  {
   "cell_type": "code",
   "execution_count": 25,
   "metadata": {},
   "outputs": [],
   "source": [
    "from pydantic import TypeAdapter\n",
    "\n",
    "pastery_adapter = TypeAdapter(Pastery)\n",
    "\n",
    "\n"
   ]
  },
  {
   "cell_type": "code",
   "execution_count": 29,
   "metadata": {},
   "outputs": [
    {
     "data": {
      "text/plain": [
       "{'name': 'Croissant', 'bake_duration_mins': 10}"
      ]
     },
     "execution_count": 29,
     "metadata": {},
     "output_type": "execute_result"
    }
   ],
   "source": [
    "pastery_adapter.validate_python({'name': 'Croissant', 'bake_duration_mins': '10'})"
   ]
  },
  {
   "cell_type": "code",
   "execution_count": 31,
   "metadata": {},
   "outputs": [
    {
     "ename": "ValidationError",
     "evalue": "1 validation error for typed-dict\nbake_duration_mins\n  Input should be a valid integer [type=int_type, input_value='10', input_type=str]\n    For further information visit https://errors.pydantic.dev/2.5/v/int_type",
     "output_type": "error",
     "traceback": [
      "\u001b[0;31m---------------------------------------------------------------------------\u001b[0m",
      "\u001b[0;31mValidationError\u001b[0m                           Traceback (most recent call last)",
      "\u001b[1;32m/Users/alprielse/src/sandboxed/2023-11-25_python-play/play.ipynb Cell 14\u001b[0m line \u001b[0;36m1\n\u001b[0;32m----> <a href='vscode-notebook-cell:/Users/alprielse/src/sandboxed/2023-11-25_python-play/play.ipynb#X21sZmlsZQ%3D%3D?line=0'>1</a>\u001b[0m pastery_adapter\u001b[39m.\u001b[39;49mvalidate_python({\u001b[39m'\u001b[39;49m\u001b[39mname\u001b[39;49m\u001b[39m'\u001b[39;49m: \u001b[39m'\u001b[39;49m\u001b[39mCroissant\u001b[39;49m\u001b[39m'\u001b[39;49m, \u001b[39m'\u001b[39;49m\u001b[39mbake_duration_mins\u001b[39;49m\u001b[39m'\u001b[39;49m: \u001b[39m'\u001b[39;49m\u001b[39m10\u001b[39;49m\u001b[39m'\u001b[39;49m}, strict\u001b[39m=\u001b[39;49m\u001b[39mTrue\u001b[39;49;00m)\n",
      "File \u001b[0;32m~/src/sandboxed/2023-11-25_python-play/.venv/lib/python3.9/site-packages/pydantic/type_adapter.py:239\u001b[0m, in \u001b[0;36mTypeAdapter.validate_python\u001b[0;34m(self, _TypeAdapter__object, strict, from_attributes, context)\u001b[0m\n\u001b[1;32m    216\u001b[0m \u001b[39mdef\u001b[39;00m \u001b[39mvalidate_python\u001b[39m(\n\u001b[1;32m    217\u001b[0m     \u001b[39mself\u001b[39m,\n\u001b[1;32m    218\u001b[0m     __object: Any,\n\u001b[0;32m   (...)\u001b[0m\n\u001b[1;32m    222\u001b[0m     context: \u001b[39mdict\u001b[39m[\u001b[39mstr\u001b[39m, Any] \u001b[39m|\u001b[39m \u001b[39mNone\u001b[39;00m \u001b[39m=\u001b[39m \u001b[39mNone\u001b[39;00m,\n\u001b[1;32m    223\u001b[0m ) \u001b[39m-\u001b[39m\u001b[39m>\u001b[39m T:\n\u001b[1;32m    224\u001b[0m \u001b[39m    \u001b[39m\u001b[39m\"\"\"Validate a Python object against the model.\u001b[39;00m\n\u001b[1;32m    225\u001b[0m \n\u001b[1;32m    226\u001b[0m \u001b[39m    Args:\u001b[39;00m\n\u001b[0;32m   (...)\u001b[0m\n\u001b[1;32m    237\u001b[0m \u001b[39m        The validated object.\u001b[39;00m\n\u001b[1;32m    238\u001b[0m \u001b[39m    \"\"\"\u001b[39;00m\n\u001b[0;32m--> 239\u001b[0m     \u001b[39mreturn\u001b[39;00m \u001b[39mself\u001b[39;49m\u001b[39m.\u001b[39;49mvalidator\u001b[39m.\u001b[39;49mvalidate_python(__object, strict\u001b[39m=\u001b[39;49mstrict, from_attributes\u001b[39m=\u001b[39;49mfrom_attributes, context\u001b[39m=\u001b[39;49mcontext)\n",
      "\u001b[0;31mValidationError\u001b[0m: 1 validation error for typed-dict\nbake_duration_mins\n  Input should be a valid integer [type=int_type, input_value='10', input_type=str]\n    For further information visit https://errors.pydantic.dev/2.5/v/int_type"
     ]
    }
   ],
   "source": [
    "pastery_adapter.validate_python({'name': 'Croissant', 'bake_duration_mins': '10'}, strict=True)"
   ]
  },
  {
   "cell_type": "code",
   "execution_count": 28,
   "metadata": {},
   "outputs": [
    {
     "data": {
      "text/plain": [
       "{'name': 'Croissant', 'bake_duration_mins': 10}"
      ]
     },
     "execution_count": 28,
     "metadata": {},
     "output_type": "execute_result"
    }
   ],
   "source": [
    "pastery_adapter.validate_python({'name': 'Croissant', 'bake_duration_mins': 10})"
   ]
  },
  {
   "cell_type": "code",
   "execution_count": 35,
   "metadata": {},
   "outputs": [],
   "source": [
    "from datetime import datetime\n",
    "class Meeting(BaseModel):\n",
    "  time: datetime\n",
    "\n"
   ]
  },
  {
   "cell_type": "code",
   "execution_count": 37,
   "metadata": {},
   "outputs": [
    {
     "ename": "ValidationError",
     "evalue": "1 validation error for Meeting\ntime\n  Input should be a valid datetime, input is too short [type=datetime_parsing, input_value='hi', input_type=str]\n    For further information visit https://errors.pydantic.dev/2.5/v/datetime_parsing",
     "output_type": "error",
     "traceback": [
      "\u001b[0;31m---------------------------------------------------------------------------\u001b[0m",
      "\u001b[0;31mValidationError\u001b[0m                           Traceback (most recent call last)",
      "\u001b[1;32m/Users/alprielse/src/sandboxed/2023-11-25_python-play/play.ipynb Cell 17\u001b[0m line \u001b[0;36m1\n\u001b[0;32m----> <a href='vscode-notebook-cell:/Users/alprielse/src/sandboxed/2023-11-25_python-play/play.ipynb#X22sZmlsZQ%3D%3D?line=0'>1</a>\u001b[0m Meeting\u001b[39m.\u001b[39;49mmodel_validate({\u001b[39m'\u001b[39;49m\u001b[39mtime\u001b[39;49m\u001b[39m'\u001b[39;49m: \u001b[39m'\u001b[39;49m\u001b[39mhi\u001b[39;49m\u001b[39m'\u001b[39;49m})\n",
      "File \u001b[0;32m~/src/sandboxed/2023-11-25_python-play/.venv/lib/python3.9/site-packages/pydantic/main.py:503\u001b[0m, in \u001b[0;36mBaseModel.model_validate\u001b[0;34m(cls, obj, strict, from_attributes, context)\u001b[0m\n\u001b[1;32m    501\u001b[0m \u001b[39m# `__tracebackhide__` tells pytest and some other tools to omit this function from tracebacks\u001b[39;00m\n\u001b[1;32m    502\u001b[0m __tracebackhide__ \u001b[39m=\u001b[39m \u001b[39mTrue\u001b[39;00m\n\u001b[0;32m--> 503\u001b[0m \u001b[39mreturn\u001b[39;00m \u001b[39mcls\u001b[39;49m\u001b[39m.\u001b[39;49m__pydantic_validator__\u001b[39m.\u001b[39;49mvalidate_python(\n\u001b[1;32m    504\u001b[0m     obj, strict\u001b[39m=\u001b[39;49mstrict, from_attributes\u001b[39m=\u001b[39;49mfrom_attributes, context\u001b[39m=\u001b[39;49mcontext\n\u001b[1;32m    505\u001b[0m )\n",
      "\u001b[0;31mValidationError\u001b[0m: 1 validation error for Meeting\ntime\n  Input should be a valid datetime, input is too short [type=datetime_parsing, input_value='hi', input_type=str]\n    For further information visit https://errors.pydantic.dev/2.5/v/datetime_parsing"
     ]
    }
   ],
   "source": [
    "Meeting.model_validate({'time': 'hi'})"
   ]
  },
  {
   "cell_type": "code",
   "execution_count": 38,
   "metadata": {},
   "outputs": [],
   "source": [
    "from pydantic import field_validator\n",
    "\n",
    "class MeetingV2(BaseModel):\n",
    "  time: datetime\n",
    "\n",
    "  @field_validator('time', mode='wrap')\n",
    "  def when_now(cls, input_value, handler):\n",
    "    if input_value == 'now':\n",
    "      return datetime.now()\n",
    "    \n",
    "    when = handler(input_value)\n",
    "    return when\n"
   ]
  },
  {
   "cell_type": "code",
   "execution_count": 40,
   "metadata": {},
   "outputs": [
    {
     "data": {
      "text/plain": [
       "MeetingV2(time=datetime.datetime(2023, 11, 25, 12, 51, 54, 503145))"
      ]
     },
     "execution_count": 40,
     "metadata": {},
     "output_type": "execute_result"
    }
   ],
   "source": [
    "MeetingV2(time='now')"
   ]
  },
  {
   "cell_type": "code",
   "execution_count": 11,
   "metadata": {},
   "outputs": [
    {
     "name": "stderr",
     "output_type": "stream",
     "text": [
      "/var/folders/kt/7gdyyk6d75lbw1xwdqkrbrjw0000gn/T/ipykernel_49160/2003782499.py:17: PydanticDeprecatedSince20: The `dict` method is deprecated; use `model_dump` instead. Deprecated in Pydantic V2.0 to be removed in V3.0. See Pydantic V2 Migration Guide at https://errors.pydantic.dev/2.5/migration/\n",
      "  x.dict()\n"
     ]
    },
    {
     "data": {
      "text/plain": [
       "{'firstname': 'Alpri', 'lastname': 'Else', 'fullname': 'Alpri Else'}"
      ]
     },
     "execution_count": 11,
     "metadata": {},
     "output_type": "execute_result"
    }
   ],
   "source": [
    "from pydantic import BaseModel, computed_field\n",
    "\n",
    "class TestModel(BaseModel):\n",
    "  firstname: str\n",
    "  lastname: str\n",
    "  _secret: str\n",
    "\n",
    "  @computed_field(repr=False)\n",
    "  def fullname(self) -> str:\n",
    "    return f'{self.firstname} {self.lastname}'\n",
    "  \n",
    "  def fullname_v2(self) -> str:\n",
    "    return f'{self.firstname} {self.lastname}'\n",
    "\n",
    "\n",
    "x = TestModel(firstname='Alpri', lastname='Else')\n",
    "x.dict()\n"
   ]
  },
  {
   "cell_type": "code",
   "execution_count": null,
   "metadata": {},
   "outputs": [],
   "source": []
  }
 ],
 "metadata": {
  "kernelspec": {
   "display_name": ".venv",
   "language": "python",
   "name": "python3"
  },
  "language_info": {
   "codemirror_mode": {
    "name": "ipython",
    "version": 3
   },
   "file_extension": ".py",
   "mimetype": "text/x-python",
   "name": "python",
   "nbconvert_exporter": "python",
   "pygments_lexer": "ipython3",
   "version": "3.9.0"
  },
  "orig_nbformat": 4
 },
 "nbformat": 4,
 "nbformat_minor": 2
}
