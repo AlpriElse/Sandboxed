{
 "cells": [
  {
   "cell_type": "code",
   "execution_count": 17,
   "metadata": {},
   "outputs": [
    {
     "name": "stdout",
     "output_type": "stream",
     "text": [
      "214 232 241 232\n"
     ]
    }
   ],
   "source": [
    "# Introduction Problem\n",
    "from Bio.Seq import Seq\n",
    "\n",
    "f = open('./rosalind_ini.txt', 'r')\n",
    "\n",
    "my_seq = Seq(f.read())\n",
    "print(my_seq.count('A'), my_seq.count('C'), my_seq.count('T'), my_seq.count('C'))\n"
   ]
  },
  {
   "cell_type": "code",
   "execution_count": 15,
   "metadata": {},
   "outputs": [
    {
     "name": "stdout",
     "output_type": "stream",
     "text": [
      "13\n"
     ]
    }
   ],
   "source": [
    "# GenBank Introduction\n",
    "\n",
    "\"\"\"\n",
    "Found search params here:\n",
    "https://www.ncbi.nlm.nih.gov/books/NBK25499/#chapter4.ESearch\n",
    "\n",
    "https://dataguide.nlm.nih.gov/edirect/esearch.html\n",
    "\"\"\"\n",
    "from Bio import Entrez\n",
    "Entrez.email = \"alprielse@gmail.com\"\n",
    "\n",
    "import ssl\n",
    "ssl._create_default_https_context = ssl._create_unverified_context\n",
    "\n",
    "handle = Entrez.esearch(\n",
    "  db=\"nucleotide\",\n",
    "  term=\"Stethophyma[Organism]\", # use [Organism] to filter by Genus\n",
    "  datetype=\"PDAT\",\n",
    "  mindate=\"2007/05/11\",\n",
    "  maxdate=\"2012/02/12\"\n",
    ")\n",
    "\n",
    "record = Entrez.read(handle)\n",
    "\n",
    "\n",
    "print(record['Count'])\n",
    "\n",
    "handle.close()"
   ]
  },
  {
   "cell_type": "code",
   "execution_count": 43,
   "metadata": {},
   "outputs": [
    {
     "name": "stdout",
     "output_type": "stream",
     "text": [
      ">NM_001003102.2 Canis lupus familiaris ribosomal protein L27 (RPL27), mRNA\n",
      "CGTTTCTTCCTTTCTGCTGTAGGCTCGAGTGGCTGGTGTCGAGATGGGCAAGTTCATGAA\n",
      "ACCCGGGAAGGTGGTGCTGGTCCTGGCCGGACGCTACTCCGGACGCAAAGCGGTCATCGT\n",
      "GAAGAACATTGATGATGGCACCTCAGACCGTCCCTACAGCCATGCTCTGGTGGCCGGAAT\n",
      "AGACCGCTATCCCCGAAAAGTGACAGCTGCCATGGGCAAGAAGAAAATCGCCAAGAGGTC\n",
      "AAAGATCAAGTCTTTTGTGAAAGTTTATAACTACAATCACCTCATGCCCACAAGGTACTC\n",
      "TGTGGATATCCCTTTGGACAAAACTGTCGTCAACAAGGATGTCTTCAGAGACCCTGCTCT\n",
      "TAAACGCAAGGCCCGACGAGAGGCCAAGGTCAAGTTCGAGGAGAGGTACAAGACTGGCAA\n",
      "GAATAAGTGGTTCTTCCAGAAGCTGCGGTTTTAGATTTCTTTCAGTCATTAAAAATAAAT\n",
      "TAAAAAAAAAAAAAAGA\n",
      "\n"
     ]
    }
   ],
   "source": [
    "from Bio import SeqIO\n",
    "\n",
    "ids = \"JQ712977 JX445144 GU292427 JX308815 JF927165 JX295575 JX475045 JQ011270 NM_001003102\".split()\n",
    "\n",
    "handle = Entrez.efetch(\n",
    "  db=\"nucleotide\", \n",
    "  id=ids, \n",
    "  rettype=\"fasta\"\n",
    ")\n",
    "\n",
    "records = list(SeqIO.parse(handle, 'fasta'))\n",
    "\n",
    "records.sort(key=lambda r: r.id, reverse=True)\n",
    "\n",
    "print(records[0].format('fasta'))"
   ]
  },
  {
   "cell_type": "code",
   "execution_count": 55,
   "metadata": {},
   "outputs": [
    {
     "name": "stdout",
     "output_type": "stream",
     "text": [
      "LDLNGLRVSWQGSHFWLTIMPVQPFCCLSHEARFKV\n",
      "AGDNANWALKYEACHVDGFY\n",
      "WAYAIIQDNYALPNGDLKMK\n"
     ]
    }
   ],
   "source": [
    "# New Motif Discovery\n",
    "\"\"\"\n",
    "Motif discovery on DNA, RNA, etc\n",
    "https://meme-suite.org/meme/tools/meme\n",
    "\"\"\"\n",
    "\n",
    "from Bio.motifs import meme\n",
    "\n",
    "\n",
    "record = None\n",
    "with open('motif-input.txt') as f:\n",
    "  record = meme.read(f)\n",
    "\n",
    "for motif in record:\n",
    "  print(motif.consensus)\n",
    "  for instance in motif.instances:\n",
    "        print(instance.motif_name, instance.sequence_name, instance.strand, instance.pvalue)\n"
   ]
  },
  {
   "cell_type": "code",
   "execution_count": null,
   "metadata": {},
   "outputs": [],
   "source": []
  }
 ],
 "metadata": {
  "kernelspec": {
   "display_name": "Python 3",
   "language": "python",
   "name": "python3"
  },
  "language_info": {
   "codemirror_mode": {
    "name": "ipython",
    "version": 3
   },
   "file_extension": ".py",
   "mimetype": "text/x-python",
   "name": "python",
   "nbconvert_exporter": "python",
   "pygments_lexer": "ipython3",
   "version": "3.8.0"
  },
  "orig_nbformat": 4,
  "vscode": {
   "interpreter": {
    "hash": "aee8b7b246df8f9039afb4144a1f6fd8d2ca17a180786b69acc140d282b71a49"
   }
  }
 },
 "nbformat": 4,
 "nbformat_minor": 2
}
