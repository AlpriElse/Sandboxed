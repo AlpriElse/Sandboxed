{
 "cells": [
  {
   "cell_type": "code",
   "execution_count": 17,
   "metadata": {},
   "outputs": [
    {
     "name": "stdout",
     "output_type": "stream",
     "text": [
      "214 232 241 232\n"
     ]
    }
   ],
   "source": [
    "# Introduction Problem\n",
    "from Bio.Seq import Seq\n",
    "\n",
    "f = open('./rosalind_ini.txt', 'r')\n",
    "\n",
    "my_seq = Seq(f.read())\n",
    "print(my_seq.count('A'), my_seq.count('C'), my_seq.count('T'), my_seq.count('C'))\n"
   ]
  },
  {
   "cell_type": "code",
   "execution_count": 15,
   "metadata": {},
   "outputs": [
    {
     "name": "stdout",
     "output_type": "stream",
     "text": [
      "13\n"
     ]
    }
   ],
   "source": [
    "# GenBank Introduction\n",
    "\n",
    "\"\"\"\n",
    "Found search params here:\n",
    "https://www.ncbi.nlm.nih.gov/books/NBK25499/#chapter4.ESearch\n",
    "\n",
    "https://dataguide.nlm.nih.gov/edirect/esearch.html\n",
    "\"\"\"\n",
    "from Bio import Entrez\n",
    "Entrez.email = \"alprielse@gmail.com\"\n",
    "\n",
    "import ssl\n",
    "ssl._create_default_https_context = ssl._create_unverified_context\n",
    "\n",
    "handle = Entrez.esearch(\n",
    "  db=\"nucleotide\",\n",
    "  term=\"Stethophyma[Organism]\", # use [Organism] to filter by Genus\n",
    "  datetype=\"PDAT\",\n",
    "  mindate=\"2007/05/11\",\n",
    "  maxdate=\"2012/02/12\"\n",
    ")\n",
    "\n",
    "record = Entrez.read(handle)\n",
    "\n",
    "\n",
    "print(record['Count'])\n",
    "\n",
    "handle.close()"
   ]
  },
  {
   "cell_type": "code",
   "execution_count": 43,
   "metadata": {},
   "outputs": [
    {
     "name": "stdout",
     "output_type": "stream",
     "text": [
      ">NM_001003102.2 Canis lupus familiaris ribosomal protein L27 (RPL27), mRNA\n",
      "CGTTTCTTCCTTTCTGCTGTAGGCTCGAGTGGCTGGTGTCGAGATGGGCAAGTTCATGAA\n",
      "ACCCGGGAAGGTGGTGCTGGTCCTGGCCGGACGCTACTCCGGACGCAAAGCGGTCATCGT\n",
      "GAAGAACATTGATGATGGCACCTCAGACCGTCCCTACAGCCATGCTCTGGTGGCCGGAAT\n",
      "AGACCGCTATCCCCGAAAAGTGACAGCTGCCATGGGCAAGAAGAAAATCGCCAAGAGGTC\n",
      "AAAGATCAAGTCTTTTGTGAAAGTTTATAACTACAATCACCTCATGCCCACAAGGTACTC\n",
      "TGTGGATATCCCTTTGGACAAAACTGTCGTCAACAAGGATGTCTTCAGAGACCCTGCTCT\n",
      "TAAACGCAAGGCCCGACGAGAGGCCAAGGTCAAGTTCGAGGAGAGGTACAAGACTGGCAA\n",
      "GAATAAGTGGTTCTTCCAGAAGCTGCGGTTTTAGATTTCTTTCAGTCATTAAAAATAAAT\n",
      "TAAAAAAAAAAAAAAGA\n",
      "\n"
     ]
    }
   ],
   "source": [
    "from Bio import SeqIO\n",
    "\n",
    "ids = \"JQ712977 JX445144 GU292427 JX308815 JF927165 JX295575 JX475045 JQ011270 NM_001003102\".split()\n",
    "\n",
    "handle = Entrez.efetch(\n",
    "  db=\"nucleotide\", \n",
    "  id=ids, \n",
    "  rettype=\"fasta\"\n",
    ")\n",
    "\n",
    "records = list(SeqIO.parse(handle, 'fasta'))\n",
    "\n",
    "records.sort(key=lambda r: r.id, reverse=True)\n",
    "\n",
    "print(records[0].format('fasta'))"
   ]
  },
  {
   "cell_type": "code",
   "execution_count": 56,
   "metadata": {},
   "outputs": [
    {
     "name": "stdout",
     "output_type": "stream",
     "text": [
      "LDLNGLRVSWQGSHFWLTIMPVQPFCCLSHEARFKV\n",
      "LDLNGLRVSWQGSYFWLTIMPVQPFCKLSHEARFKV Rosalind_7568 + 4.83e-46\n",
      "LDLNGLRVSWQGSYFWLTIMPVQPFCKLSHEARFKV Rosalind_9754 + 4.83e-46\n",
      "LDLNGLRVSWQGSYFWLTIMPVQPFCKLSHEARFKV Rosalind_2584 + 4.83e-46\n",
      "LDLNGLRVSWQGSYFWLTIMPVQPFCKLSHEARFKV Rosalind_8109 + 4.83e-46\n",
      "LDLNGLRVSWQGSYFWLTIMPVQPFCKLSHEARFKV Rosalind_0616 + 4.83e-46\n",
      "LDLNGLRVSWQGSYFWLTIMPVQPFCKLSHEARFKV Rosalind_8724 + 2.28e-45\n",
      "LDLNGLRVSWQGSYFWLTIMPVQPFCKLSHEARFKV Rosalind_9836 + 2.28e-45\n",
      "LDLNGLRVSWQGSYFWLTIMPVQPFCKLSHEARFKV Rosalind_2543 + 2.28e-45\n",
      "LDLNGLRVSWQGSYFWLTIMPVQPFCKLSHEARFKV Rosalind_3123 + 2.28e-45\n",
      "LDLNGLRVSWQGSYFWLTIMPVQPFCKLSHEARFKV Rosalind_7019 + 2.28e-45\n",
      "LDLNGLRVSWQGSYFWLTIMPVQPFCKLSHEARFKV Rosalind_0225 + 2.28e-45\n",
      "LDLNGLRVSWQGSYFWLTIMPVQPFCKLSHEARFKV Rosalind_1390 + 2.28e-45\n",
      "LDLNGLRVSWQGSYFWLTIMPVQPFCKLSHEARFKV Rosalind_8152 + 2.28e-45\n",
      "LDLNGLRVSWQGSYFWLTIMPVQPFCKLSHEARFKV Rosalind_8053 + 2.28e-45\n",
      "LDLNGLRVSWQGSYFWLTIMPVQPFCKLSHEARFKV Rosalind_0702 + 2.28e-45\n",
      "LDLNGLRVSWQGSYFWLTIMPVQPFCKLSHEARFKV Rosalind_5254 + 2.28e-45\n",
      "LDLNGLRVSWQGSYFWLTIMPVQPFCKLSHEARFKV Rosalind_8513 + 2.28e-45\n",
      "LDLNGLRVSWQGSYFWLTIMPVQPFCKLSHEARFKV Rosalind_4917 + 2.28e-45\n",
      "LDLNGLRVSWQGSYFWLTIMPVQPFCKLSHEARFKV Rosalind_2515 + 2.28e-45\n",
      "LDLNGLRVSWQGSYFWLTIMPVQPFCKLSHEARFKV Rosalind_4183 + 2.28e-45\n",
      "LDLNGLRVSWQGSYFWLTIMPVQPFCKLSHEARFKV Rosalind_8909 + 2.28e-45\n",
      "LDLNGLRVSWQGSYFWLTIMPVQPFCKLSHEARFKV Rosalind_9077 + 2.28e-45\n",
      "LDLNGLRVSWQGSYFWLTIMPVQPFCKLSHEARFKV Rosalind_0328 + 2.28e-45\n",
      "LDLNGLRVSWQGSYFWLTIMPVQPFCKLSHEARFKV Rosalind_6865 + 2.28e-45\n",
      "LDLNGLRVSWQGSYFWLTIMPVQPFCKLSHEARFKV Rosalind_4166 + 2.28e-45\n",
      "LDLNGLRVSWQGSYFWLTIMPVQPFCKLSHEARFKV Rosalind_2648 + 2.28e-45\n",
      "LDLNGLRVSWQGSYFWLTIMPVQPFCKLSHEARFKV Rosalind_8804 + 2.28e-45\n",
      "LDLNGLRVSWQGSYFWLTIMPVQPFCKLSHEARFKV Rosalind_9028 + 2.28e-45\n",
      "LDLNGLRVSWQGSYFWLTIMPVQPFCKLSHEARFKV Rosalind_8280 + 2.28e-45\n",
      "LDLNGLRVSWQGSYFWLTIMPVQPFCKLSHEARFKV Rosalind_0955 + 2.28e-45\n",
      "LDLNGLRVSWQGSYFWLTIMPVQPFCKLSHEARFKV Rosalind_2468 + 2.28e-45\n",
      "LDLNGLRVSWQGSYFWLTIMPVQPFCKLSHEARFKV Rosalind_9357 + 4.89e-45\n",
      "LDLNGLRVSWQGSYFWLTIMPVQPFCKLSHEARFKV Rosalind_6657 + 4.89e-45\n",
      "LDLNGLRVSWQGSYFWLTIMPVQPFCKLSHEARFKV Rosalind_5120 + 4.89e-45\n",
      "LDLNGLRVSWQGSYFWLTIMPVQPFCKLSHEARFKV Rosalind_6839 + 4.89e-45\n",
      "LDLNGLRVSWQGSYFWLTIMPVQPFCKLSHEARFKV Rosalind_3376 + 4.89e-45\n",
      "LDLNGLRVSWQGSYFWLTIMPVQPFCKLSHEARFKV Rosalind_4556 + 4.89e-45\n",
      "LDLNGLRVSWQGSYFWLTIMPVQPFCKLSHEARFKV Rosalind_5078 + 4.89e-45\n",
      "LDLNGLRVSWQGSYFWLTIMPVQPFCKLSHEARFKV Rosalind_6897 + 4.89e-45\n",
      "LDLNGLRVSWQGSYFWLTIMPVQPFCKLSHEARFKV Rosalind_7113 + 4.89e-45\n",
      "LDLNGLRVSWQGSYFWLTIMPVQPFCKLSHEARFKV Rosalind_4529 + 4.89e-45\n",
      "LDLNGLRVSWQGSYFWLTIMPVQPFCKLSHEARFKV Rosalind_0480 + 4.89e-45\n",
      "LDLNGLRVSWQGSYFWLTIMPVQPFCKLSHEARFKV Rosalind_5303 + 4.89e-45\n",
      "LDLNGLRVSWQGSYFWLTIMPVQPFCKLSHEARFKV Rosalind_4309 + 4.89e-45\n",
      "LDLNGLRVSWQGSYFWLTIMPVQPFCKLSHEARFKV Rosalind_9080 + 4.89e-45\n",
      "LDLNGLRVSWQGSYFWLTIMPVQPFCKLSHEARFKV Rosalind_8916 + 4.89e-45\n",
      "LDLNGLRVSWQGSYFWLTIMPVQPFCKLSHEARFKV Rosalind_7401 + 4.89e-45\n",
      "LDLNGLRVSWQGSYFWLTIMPVQPFCKLSHEARFKV Rosalind_8453 + 4.89e-45\n",
      "LDLNGLRVSWQGSYFWLTIMPVQPFCKLSHEARFKV Rosalind_0240 + 4.89e-45\n",
      "LDLNGLRVSWQGSYFWLTIMPVQPFCKLSHEARFKV Rosalind_5259 + 4.89e-45\n",
      "LDLNGLRVSWQGSYFWLTIMPVQPFCKLSHEARFKV Rosalind_7634 + 4.89e-45\n",
      "LDLNGLRVSWQGSYFWLTIMPVQPFCKLSHEARFKV Rosalind_8802 + 4.89e-45\n",
      "LDLNGLRVSWQGSYFWLTIMPVQPFCKLSHEARFKV Rosalind_3899 + 4.89e-45\n",
      "LDLNGLRVSWQGSYFWLTIMPVQPFCKLSHEARFKV Rosalind_2655 + 4.89e-45\n",
      "LDLNGLRVSWQGSYFWLTIMPVQPFCKLSHEARFKV Rosalind_7749 + 4.89e-45\n",
      "LDLNGLRVSWQGSYFWLTIMPVQPFCKLSHEARFKV Rosalind_4245 + 4.89e-45\n",
      "LDLNGLRVSWQGSYFWLTIMPVQPFCKLSHEARFKV Rosalind_8772 + 4.89e-45\n",
      "LDLNGLRVSWQGSYFWLTIMPVQPFCKLSHEARFKV Rosalind_7740 + 4.89e-45\n",
      "LDLNGLRVSWQGSYFWLTIMPVQPFCKLSHEARFKV Rosalind_4720 + 4.89e-45\n",
      "LDLNGLRVSWQGSYFWLTIMPVQPFCKLSHEARFKV Rosalind_8102 + 4.89e-45\n",
      "LDLNGLRVSWQGSYFWLTIMPVQPFCKLSHEARFKV Rosalind_1449 + 4.89e-45\n",
      "LDLNGLRVSWQGSYFWLTIMPVQPFCKLSHEARFKV Rosalind_3839 + 4.89e-45\n",
      "LDLNGLRVSWQGSYFWLTIMPVQPFCKLSHEARFKV Rosalind_5653 + 4.89e-45\n",
      "LDLNGLRVSWQGSYFWLTIMPVQPFCKLSHEARFKV Rosalind_9499 + 4.89e-45\n",
      "LDLNGLRVSWQGSYFWLTIMPVQPFCKLSHEARFKV Rosalind_9176 + 4.89e-45\n",
      "LDLNGLRVSWQGSYFWLTIMPVQPFCKLSHEARFKV Rosalind_9760 + 4.89e-45\n",
      "LDLNGLRVSWQGSYFWLTIMPVQPFCKLSHEARFKV Rosalind_4452 + 4.89e-45\n",
      "LDLNGLRVSWQGSYFWLTIMPVQPFCKLSHEARFKV Rosalind_7179 + 4.89e-45\n",
      "LDLNGLRVSWQGSYFWLTIMPVQPFCKLSHEARFKV Rosalind_8377 + 4.89e-45\n",
      "LDLNGLRVSWQGSYFWLTIMPVQPFCKLSHEARFKV Rosalind_9073 + 4.89e-45\n",
      "LDLNGLRVSWQGSYFWLTIMPVQPFCKLSHEARFKV Rosalind_9158 + 4.89e-45\n",
      "LDLNGLRVSWQGSYFWLTIMPVQPFCKLSHEARFKV Rosalind_2906 + 4.89e-45\n",
      "LDLNGLRVSWQGSYFWLTIMPVQPFCKLSHEARFKV Rosalind_8720 + 4.89e-45\n",
      "LDLNGLRVSWQGSYFWLTIMPVQPFCKLSHEARFKV Rosalind_6039 + 6.73e-45\n",
      "LDLNGLRVSWQGSYFWLTIMPVQPFCKLSHEARFKV Rosalind_2060 + 6.73e-45\n",
      "LDLNGLRVSWQGSYFWLTIMPVQPFCKLSHEARFKV Rosalind_0141 + 6.73e-45\n",
      "LDLNGLRVSWQGSYFWLTIMPVQPFCKLSHEARFKV Rosalind_4855 + 6.73e-45\n",
      "LDLNGLRVSWQGSYFWLTIMPVQPFCKLSHEARFKV Rosalind_0458 + 6.73e-45\n",
      "LDLNGLRVSWQGSYFWLTIMPVQPFCKLSHEARFKV Rosalind_5878 + 6.73e-45\n",
      "LDLNGLRVSWQGSYFWLTIMPVQPFCKLSHEARFKV Rosalind_5065 + 6.73e-45\n",
      "LDLNGLRVSWQGSYFWLTIMPVQPFCKLSHEARFKV Rosalind_5917 + 6.73e-45\n",
      "LDLNGLRVSWQGSYFWLTIMPVQPFCKLSHEARFKV Rosalind_3488 + 6.73e-45\n",
      "LDLNGLRVSWQGSYFWLTIMPVQPFCKLSHEARFKV Rosalind_4504 + 6.73e-45\n",
      "LDLNGLRVSWQGSYFWLTIMPVQPFCKLSHEARFKV Rosalind_1519 + 6.73e-45\n",
      "LDLNGLRVSWQGSYFWLTIMPVQPFCKLSHEARFKV Rosalind_0993 + 6.73e-45\n",
      "LDLNGLRVSWQGSYFWLTIMPVQPFCKLSHEARFKV Rosalind_2924 + 6.73e-45\n",
      "LDLNGLRVSWQGSYFWLTIMPVQPFCKLSHEARFKV Rosalind_5309 + 6.73e-45\n",
      "LDLNGLRVSWQGSYFWLTIMPVQPFCKLSHEARFKV Rosalind_8118 + 6.73e-45\n",
      "LDLNGLRVSWQGSYFWLTIMPVQPFCKLSHEARFKV Rosalind_0608 + 6.73e-45\n",
      "LDLNGLRVSWQGSYFWLTIMPVQPFCKLSHEARFKV Rosalind_3309 + 6.73e-45\n",
      "LDLNGLRVSWQGSYFWLTIMPVQPFCKLSHEARFKV Rosalind_4475 + 6.73e-45\n",
      "LDLNGLRVSWQGSYFWLTIMPVQPFCKLSHEARFKV Rosalind_5529 + 7.36e-45\n",
      "LDLNGLRVSWQGSYFWLTIMPVQPFCKLSHEARFKV Rosalind_8394 + 7.36e-45\n",
      "LDLNGLRVSWQGSYFWLTIMPVQPFCKLSHEARFKV Rosalind_0768 + 7.36e-45\n",
      "LDLNGLRVSWQGSYFWLTIMPVQPFCKLSHEARFKV Rosalind_6302 + 7.36e-45\n",
      "LDLNGLRVSWQGSYFWLTIMPVQPFCKLSHEARFKV Rosalind_8599 + 7.36e-45\n",
      "LDLNGLRVSWQGSYFWLTIMPVQPFCKLSHEARFKV Rosalind_2225 + 7.45e-45\n",
      "LDLNGLRVSWQGSYFWLTIMPVQPFCKLSHEARFKV Rosalind_6378 + 7.45e-45\n",
      "AGDNANWALKYEACHVDGFY\n",
      "YGDNKNWALQYGACPVDYWY Rosalind_8724 + 5.92e-21\n",
      "YGDNKNWALQYGACPVDYWY Rosalind_7401 + 9.18e-21\n",
      "YGDNKNWALQYGACPVDYWY Rosalind_2543 + 4.86e-18\n",
      "WAYAIIQDNYALPNGDLKMK\n",
      "WAYAJIQDNYALPNGDRKMK Rosalind_6039 + 1.27e-24\n",
      "WAYAJIQDNYALPNGDRKMK Rosalind_8453 + 3.17e-21\n"
     ]
    }
   ],
   "source": [
    "# New Motif Discovery\n",
    "\"\"\"\n",
    "Motif discovery on DNA, RNA, etc\n",
    "https://meme-suite.org/meme/tools/meme\n",
    "\"\"\"\n",
    "\n",
    "\n",
    "\"FLNLSTADLD[PWT]RPDGKR[ESD][FSN]SCP[ISN][FV][LNC]QQQACRSRPPT\"\n"
   ]
  },
  {
   "cell_type": "code",
   "execution_count": null,
   "metadata": {},
   "outputs": [],
   "source": [
    "from Bio.Seq import Seq \n",
    "seq1 = Seq(\"ACCGGT\") \n",
    "seq2 = Seq(\"ACGT\")\n",
    "alignments = pairwise2.align.globalxx(seq1, seq2)\n",
    "print"
   ]
  }
 ],
 "metadata": {
  "kernelspec": {
   "display_name": "Python 3",
   "language": "python",
   "name": "python3"
  },
  "language_info": {
   "codemirror_mode": {
    "name": "ipython",
    "version": 3
   },
   "file_extension": ".py",
   "mimetype": "text/x-python",
   "name": "python",
   "nbconvert_exporter": "python",
   "pygments_lexer": "ipython3",
   "version": "3.8.0"
  },
  "orig_nbformat": 4,
  "vscode": {
   "interpreter": {
    "hash": "aee8b7b246df8f9039afb4144a1f6fd8d2ca17a180786b69acc140d282b71a49"
   }
  }
 },
 "nbformat": 4,
 "nbformat_minor": 2
}
