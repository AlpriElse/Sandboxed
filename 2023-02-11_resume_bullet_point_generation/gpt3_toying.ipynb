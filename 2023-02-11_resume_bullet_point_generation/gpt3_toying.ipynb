{
 "cells": [
  {
   "cell_type": "markdown",
   "metadata": {},
   "source": [
    "Wtf is beam search\n",
    "https://www.youtube.com/watch?v=RLWuzLLSIgw&ab_channel=DeepLearningAI"
   ]
  },
  {
   "cell_type": "code",
   "execution_count": 1,
   "metadata": {},
   "outputs": [
    {
     "name": "stderr",
     "output_type": "stream",
     "text": [
      "/Users/alprielse/src/sandboxed/2023-02-11_resume_bullet_point_generation/.venv/lib/python3.8/site-packages/tqdm/auto.py:22: TqdmWarning: IProgress not found. Please update jupyter and ipywidgets. See https://ipywidgets.readthedocs.io/en/stable/user_install.html\n",
      "  from .autonotebook import tqdm as notebook_tqdm\n",
      "No model was supplied, defaulted to gpt2 and revision 6c0e608 (https://huggingface.co/gpt2).\n",
      "Using a pipeline without specifying a model name and revision in production is not recommended.\n"
     ]
    }
   ],
   "source": [
    "from text_generator import *\n",
    "\n",
    "generator = DefaultTextGenerator()"
   ]
  },
  {
   "cell_type": "code",
   "execution_count": 2,
   "metadata": {},
   "outputs": [
    {
     "ename": "AttributeError",
     "evalue": "'TextGenerationPipeline' object has no attribute 'generate'",
     "output_type": "error",
     "traceback": [
      "\u001b[0;31m---------------------------------------------------------------------------\u001b[0m",
      "\u001b[0;31mAttributeError\u001b[0m                            Traceback (most recent call last)",
      "Cell \u001b[0;32mIn[2], line 26\u001b[0m\n\u001b[1;32m     23\u001b[0m output_file \u001b[39m=\u001b[39m \u001b[39mopen\u001b[39m(output_filename, \u001b[39m\"\u001b[39m\u001b[39mw\u001b[39m\u001b[39m\"\u001b[39m)\n\u001b[1;32m     25\u001b[0m time_start \u001b[39m=\u001b[39m time\u001b[39m.\u001b[39mtime()\n\u001b[0;32m---> 26\u001b[0m output \u001b[39m=\u001b[39m generator\u001b[39m.\u001b[39;49mgenerate(prompt)\n\u001b[1;32m     27\u001b[0m time_end \u001b[39m=\u001b[39m time\u001b[39m.\u001b[39mtime()\n\u001b[1;32m     29\u001b[0m duration \u001b[39m=\u001b[39m time_end \u001b[39m-\u001b[39m time_start\n",
      "File \u001b[0;32m~/src/sandboxed/2023-02-11_resume_bullet_point_generation/text_generator.py:21\u001b[0m, in \u001b[0;36mDefaultTextGenerator.generate\u001b[0;34m(self, prompt)\u001b[0m\n\u001b[1;32m     20\u001b[0m \u001b[39mdef\u001b[39;00m \u001b[39mgenerate\u001b[39m(\u001b[39mself\u001b[39m, prompt: \u001b[39mstr\u001b[39m) \u001b[39m-\u001b[39m\u001b[39m>\u001b[39m \u001b[39mstr\u001b[39m:\n\u001b[0;32m---> 21\u001b[0m   output \u001b[39m=\u001b[39m \u001b[39mself\u001b[39;49m\u001b[39m.\u001b[39;49mgenerator\u001b[39m.\u001b[39;49mgenerate(prompt, max_length\u001b[39m=\u001b[39m\u001b[39m800\u001b[39m)\n\u001b[1;32m     23\u001b[0m   \u001b[39mreturn\u001b[39;00m output[\u001b[39m0\u001b[39m][\u001b[39m'\u001b[39m\u001b[39mgenerated_text\u001b[39m\u001b[39m'\u001b[39m]\n",
      "\u001b[0;31mAttributeError\u001b[0m: 'TextGenerationPipeline' object has no attribute 'generate'"
     ]
    }
   ],
   "source": [
    "import time\n",
    "\n",
    "PROMPT_FILE = './prompts/open-ai-resume-bullet-points-prompt.txt'\n",
    "OUTPUT_FOLDER = f'./outputs/{generator.name()}/open-ai-resume-bullet-points-prompt'\n",
    "\n",
    "prompt_file = open(PROMPT_FILE)\n",
    "prompt = prompt_file.read()\n",
    "\n",
    "def generate_yaml_header(dict):\n",
    "  header = \"---\\n\"\n",
    "  items = [f\"{key}: {dict[key]}\\n\" for key in dict.keys()]\n",
    "  header += ''.join(items)\n",
    "  header += \"---\\n\"\n",
    "  return header\n",
    "\n",
    "def write_with_metadata(file, metadata, output):\n",
    "  complete_output = generate_yaml_header(metadata) + output\n",
    "  file.write(complete_output)\n",
    "\n",
    "\n",
    "for i in range(0, 10):\n",
    "  output_filename = f'{OUTPUT_FOLDER}/{i}.txt'\n",
    "  output_file = open(output_filename, \"w\")\n",
    "\n",
    "  time_start = time.time()\n",
    "  output = generator.generate(prompt)\n",
    "  time_end = time.time()\n",
    "\n",
    "  duration = time_end - time_start\n",
    "  \n",
    "  write_with_metadata(\n",
    "    output_file, \n",
    "    {'duration': duration }, \n",
    "    output\n",
    "  )\n"
   ]
  },
  {
   "cell_type": "code",
   "execution_count": null,
   "metadata": {},
   "outputs": [
    {
     "data": {
      "text/plain": [
       "5063"
      ]
     },
     "execution_count": 17,
     "metadata": {},
     "output_type": "execute_result"
    }
   ],
   "source": [
    "output_duration_header = f\"duration: {duration}\\n\"\n",
    "output_file.write(output_duration_header + output[0]['generated_text'])"
   ]
  },
  {
   "cell_type": "code",
   "execution_count": null,
   "metadata": {},
   "outputs": [],
   "source": []
  }
 ],
 "metadata": {
  "kernelspec": {
   "display_name": "Python 3.8.0 ('.venv': venv)",
   "language": "python",
   "name": "python3"
  },
  "language_info": {
   "codemirror_mode": {
    "name": "ipython",
    "version": 3
   },
   "file_extension": ".py",
   "mimetype": "text/x-python",
   "name": "python",
   "nbconvert_exporter": "python",
   "pygments_lexer": "ipython3",
   "version": "3.8.0"
  },
  "orig_nbformat": 4,
  "vscode": {
   "interpreter": {
    "hash": "c827016f6de7fc453bd41db3955f3106b8c8f545e2c15ffd670b34f35570eeea"
   }
  }
 },
 "nbformat": 4,
 "nbformat_minor": 2
}
